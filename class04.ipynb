{
 "cells": [
  {
   "cell_type": "markdown",
   "id": "9b0ed889-8c03-4027-9388-afdcefb76466",
   "metadata": {},
   "source": [
    "### **Class04 Last Checkpoint**"
   ]
  },
  {
   "cell_type": "code",
   "execution_count": 5,
   "id": "d99eb015-54b0-4d91-9eb7-3d12ebc4557c",
   "metadata": {},
   "outputs": [],
   "source": [
    "bio_data_dict={\"First_name\":\"Qasim\",\"age\":15,\"weight\":75}"
   ]
  },
  {
   "cell_type": "code",
   "execution_count": 8,
   "id": "a09707ae-37c2-4bae-ac52-19bf59354262",
   "metadata": {},
   "outputs": [],
   "source": [
    "bio_data_dict['age']=12"
   ]
  },
  {
   "cell_type": "code",
   "execution_count": 9,
   "id": "510746d1-3af5-43e8-ae12-1df2954ad249",
   "metadata": {},
   "outputs": [
    {
     "name": "stdout",
     "output_type": "stream",
     "text": [
      "{'First_name': 'Qasim', 'age': 12, 'weight': 75}\n"
     ]
    }
   ],
   "source": [
    "print(bio_data_dict)"
   ]
  },
  {
   "cell_type": "code",
   "execution_count": 17,
   "id": "5185194b-adca-4679-ba33-ef40cdf85c12",
   "metadata": {},
   "outputs": [],
   "source": [
    "for i in bio_data_dict.keys():\n",
    "    if 'firs' in i:\n",
    "        print(bio_data_dict[i])"
   ]
  },
  {
   "cell_type": "code",
   "execution_count": 18,
   "id": "00ae307a-61bc-49ce-8121-d0517e2c7a83",
   "metadata": {},
   "outputs": [],
   "source": [
    "bio=[{\"First_name\":\"Qasim\",\"age\":15,\"weight\":75},{\n",
    "    \"First_name\":\"Qasim\",\"age\":15,\"weight\":75\n",
    "},{\"First_name\":\"Qasim\",\"age\":15,\"weight\":75}]"
   ]
  },
  {
   "cell_type": "code",
   "execution_count": 19,
   "id": "17b3ee2a-ae21-4587-81d7-d73356c20b63",
   "metadata": {},
   "outputs": [
    {
     "name": "stdout",
     "output_type": "stream",
     "text": [
      "[{'First_name': 'Qasim', 'age': 15, 'weight': 75}, {'First_name': 'Qasim', 'age': 15, 'weight': 75}, {'First_name': 'Qasim', 'age': 15, 'weight': 75}]\n"
     ]
    }
   ],
   "source": [
    "print(bio)"
   ]
  },
  {
   "cell_type": "code",
   "execution_count": 23,
   "id": "79aab6b6-f145-4694-a10c-b8cbf1bb2a49",
   "metadata": {},
   "outputs": [
    {
     "data": {
      "text/plain": [
       "dict"
      ]
     },
     "execution_count": 23,
     "metadata": {},
     "output_type": "execute_result"
    }
   ],
   "source": [
    "type(bio[0])"
   ]
  },
  {
   "cell_type": "code",
   "execution_count": 28,
   "id": "24526d43-537a-42df-92b8-3bea010c7077",
   "metadata": {},
   "outputs": [
    {
     "ename": "TypeError",
     "evalue": "list indices must be integers or slices, not tuple",
     "output_type": "error",
     "traceback": [
      "\u001b[1;31m---------------------------------------------------------------------------\u001b[0m",
      "\u001b[1;31mTypeError\u001b[0m                                 Traceback (most recent call last)",
      "Cell \u001b[1;32mIn[28], line 2\u001b[0m\n\u001b[0;32m      1\u001b[0m \u001b[38;5;28;01mfor\u001b[39;00m i \u001b[38;5;129;01min\u001b[39;00m \u001b[38;5;28menumerate\u001b[39m(bio):\n\u001b[1;32m----> 2\u001b[0m     \u001b[38;5;28mprint\u001b[39m(bio[i][\u001b[38;5;241m0\u001b[39m][\u001b[38;5;124m\"\u001b[39m\u001b[38;5;124mlast_name\u001b[39m\u001b[38;5;124m\"\u001b[39m], end\u001b[38;5;241m=\u001b[39m\u001b[38;5;124m'\u001b[39m\u001b[38;5;124m'\u001b[39m)\n\u001b[0;32m      3\u001b[0m     \u001b[38;5;28mprint\u001b[39m(bio[i][\u001b[38;5;241m0\u001b[39m][\u001b[38;5;124m\"\u001b[39m\u001b[38;5;124mage\u001b[39m\u001b[38;5;124m\"\u001b[39m])\n",
      "\u001b[1;31mTypeError\u001b[0m: list indices must be integers or slices, not tuple"
     ]
    }
   ],
   "source": [
    "for i in enumerate(bio):\n",
    "    print(bio[i][0][\"last_name\"], end='')\n",
    "    print(bio[i][0][\"age\"])\n",
    "    "
   ]
  },
  {
   "cell_type": "code",
   "execution_count": 41,
   "id": "91ec6c3b-4cc5-4cbb-9c79-3814f7c84d96",
   "metadata": {},
   "outputs": [],
   "source": [
    "bio = {\n",
    "    \"first_name\": \"muhammad\",\n",
    "    \"last_name\": \"waqar\",\n",
    "    \"father\": {\n",
    "        \"name\": \"Sabir\"\n",
    "    }\n",
    "}"
   ]
  },
  {
   "cell_type": "markdown",
   "id": "326edf43-0e99-400b-b11f-0529d14fc379",
   "metadata": {},
   "source": [
    "### Functions\n",
    "* functions are set of instructions that you can re use aseily\n",
    "* Functions can have parameters passed to them and them perform operation "
   ]
  },
  {
   "cell_type": "code",
   "execution_count": 45,
   "id": "9d66af36-4a0b-4e2c-b807-6eaf13ac5f37",
   "metadata": {},
   "outputs": [],
   "source": [
    "# function without parameter\n",
    "def error():\n",
    "    print(\"you have made an error!!!!\")\n",
    "    error() "
   ]
  },
  {
   "cell_type": "code",
   "execution_count": 43,
   "id": "dd988ef1-f97b-4898-9e0f-27598ef87559",
   "metadata": {},
   "outputs": [
    {
     "name": "stdout",
     "output_type": "stream",
     "text": [
      "292.5\n"
     ]
    }
   ],
   "source": [
    "def circle_area(radius,pi=3.1425):\n",
    "    print(3/4*radius*pi)\n",
    "circle_area(78,5)"
   ]
  },
  {
   "cell_type": "code",
   "execution_count": 48,
   "id": "48878ceb-55e8-466a-b3ab-5f687663d638",
   "metadata": {},
   "outputs": [
    {
     "name": "stdout",
     "output_type": "stream",
     "text": [
      "Final Addition of 3 numbers:  97\n"
     ]
    }
   ],
   "source": [
    "# function with retyrning values\n",
    "def add(num1=0,num2=2,num3=0):\n",
    "    return num1+num2+num3\n",
    "ans= add(78,-58,77)\n",
    "print(\"Final Addition of 3 numbers: \",ans)\n"
   ]
  },
  {
   "cell_type": "code",
   "execution_count": 55,
   "id": "9e03bf9e-1a14-4f42-8190-3150ef801686",
   "metadata": {},
   "outputs": [
    {
     "name": "stdout",
     "output_type": "stream",
     "text": [
      "21\n"
     ]
    }
   ],
   "source": [
    "# positional arguments in the functions parameter\n",
    "def calc(num1=0,num2=0,num3=0):\n",
    "    return num1-num2+num3\n",
    "\n",
    "print(calc(10,num2=74,num3=85))"
   ]
  },
  {
   "cell_type": "code",
   "execution_count": 67,
   "id": "451b0bd8-6337-415c-8be5-5b9032626656",
   "metadata": {},
   "outputs": [],
   "source": [
    "def team_info(anything):\n",
    "    captian = anything['captian']\n",
    "    coach = anything['coach']\n",
    "    return f'the captain of the team {anything.keys()} is {captian} and its coach is {coach}'"
   ]
  },
  {
   "cell_type": "code",
   "execution_count": 66,
   "id": "704f075c-bfd4-4b4f-9503-5d988905d76e",
   "metadata": {},
   "outputs": [
    {
     "name": "stdout",
     "output_type": "stream",
     "text": [
      "Footbal has 11 players and 4 defenders\n"
     ]
    }
   ],
   "source": [
    "# local vs golobal variable\n",
    "players = 11\n",
    "def football():\n",
    "    defenders = 4 #Local variable - can only be used in the enviornment created in\n",
    "    print(f'Footbal has {players} players and {defenders} defenders')\n",
    "football()"
   ]
  },
  {
   "cell_type": "code",
   "execution_count": null,
   "id": "b68b59cd-2fcd-4fd0-b654-065c46124352",
   "metadata": {},
   "outputs": [],
   "source": [
    "defenders # local variable  that why throwing error"
   ]
  },
  {
   "cell_type": "markdown",
   "id": "6bad0d8b-5ecd-46fc-8eff-cc846229d208",
   "metadata": {},
   "source": [
    "### while Loop\n",
    "* its continue and in for loop has limite to stope\n",
    "* while loop ther is no any condition to stope\n",
    "  "
   ]
  },
  {
   "cell_type": "code",
   "execution_count": null,
   "id": "6040442b-00e9-4ad0-8c26-1cf3b136b6b1",
   "metadata": {},
   "outputs": [],
   "source": []
  }
 ],
 "metadata": {
  "kernelspec": {
   "display_name": "Python 3 (ipykernel)",
   "language": "python",
   "name": "python3"
  },
  "language_info": {
   "codemirror_mode": {
    "name": "ipython",
    "version": 3
   },
   "file_extension": ".py",
   "mimetype": "text/x-python",
   "name": "python",
   "nbconvert_exporter": "python",
   "pygments_lexer": "ipython3",
   "version": "3.12.7"
  }
 },
 "nbformat": 4,
 "nbformat_minor": 5
}
