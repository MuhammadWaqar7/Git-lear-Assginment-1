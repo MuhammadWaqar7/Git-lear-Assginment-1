{
 "cells": [
  {
   "cell_type": "code",
   "execution_count": null,
   "id": "c13e2d42-aa95-4312-94be-0b3ea22ee03c",
   "metadata": {},
   "outputs": [],
   "source": [
    "class car()\n",
    "# constructor\n",
    "class sports_car(car):\n",
    "    def _iniit_(self,doors:int,roof:bool,spoiler:bool):\n",
    "        self.doors=doors\n",
    "        self.roof=roof\n",
    "        self.spoiler=spoiler\n",
    "    def info():\n",
    "        return(f'{self.name} is a sports car designed by {self.make} in year {self.year} having {self.doors} doors. ')\n",
    "        "
   ]
  },
  {
   "cell_type": "code",
   "execution_count": 5,
   "id": "c2169177-7b33-4508-a936-0bc7a445c916",
   "metadata": {},
   "outputs": [],
   "source": [
    "# Heirarchial Inheritance\n",
    "# car -> parent\n",
    "# sports car -> child\n",
    "# family car -> child\n",
    "\n",
    "class car():\n",
    "    # Class variables\n",
    "    wheels = 4\n",
    "    steering = 1\n",
    "    headlights = 2\n",
    "    backlights = 2\n",
    "\n",
    "    # Constructor\n",
    "    def _init_(self, name : str, model:int, make:str):\n",
    "        self.name = name\n",
    "        self.model = model\n",
    "        self.year = year\n",
    "        \n",
    "    # Method with no attributes\n",
    "    def drive(self):\n",
    "        return 'Car is moving forward'\n",
    "\n",
    "    #method with attributes\n",
    "    def engine_capacity(self, cc : int):\n",
    "        self.cc = cc\n",
    "\n",
    "    # calculated methods\n",
    "    def mileage(self, km : float, avg : float):\n",
    "        mileage = km * avg\n",
    "        return mileage\n",
    "\n",
    "class sports_car(car):\n",
    "    def _init__(self, doors:int, roof:bool, spoiler:bool):\n",
    "        self.doors = doors\n",
    "        self.roof = roof\n",
    "        self.spoiler = spoiler\n",
    "\n",
    "    def info(self):\n",
    "        return (f'{self.name} is a sports car designed by {self.make} in year {self.year} having {self.doors} doors.')"
   ]
  },
  {
   "cell_type": "code",
   "execution_count": 6,
   "id": "8ba127ca-3536-4af1-8da1-720b7f091a3d",
   "metadata": {},
   "outputs": [
    {
     "ename": "TypeError",
     "evalue": "car() takes no arguments",
     "output_type": "error",
     "traceback": [
      "\u001b[1;31m---------------------------------------------------------------------------\u001b[0m",
      "\u001b[1;31mTypeError\u001b[0m                                 Traceback (most recent call last)",
      "Cell \u001b[1;32mIn[6], line 1\u001b[0m\n\u001b[1;32m----> 1\u001b[0m cars\u001b[38;5;241m=\u001b[39mcar(\u001b[38;5;124m\"\u001b[39m\u001b[38;5;124mFXX\u001b[39m\u001b[38;5;124m\"\u001b[39m,\u001b[38;5;241m2015\u001b[39m,\u001b[38;5;124m'\u001b[39m\u001b[38;5;124mFerrari\u001b[39m\u001b[38;5;124m'\u001b[39m)\n\u001b[0;32m      2\u001b[0m ferrari\u001b[38;5;241m=\u001b[39msports_car(\u001b[38;5;241m2\u001b[39m,\u001b[38;5;28;01mTrue\u001b[39;00m,\u001b[38;5;28;01mTrue\u001b[39;00m)\n\u001b[0;32m      3\u001b[0m cars\u001b[38;5;241m.\u001b[39mmodel\n",
      "\u001b[1;31mTypeError\u001b[0m: car() takes no arguments"
     ]
    }
   ],
   "source": [
    "cars=car(\"FXX\",2015,'Ferrari')\n",
    "ferrari=sports_car(2,True,True)\n",
    "cars.model"
   ]
  },
  {
   "cell_type": "code",
   "execution_count": 7,
   "id": "a0bf7ed4-297b-41ad-a0c7-41bd7fc822a3",
   "metadata": {},
   "outputs": [
    {
     "name": "stdout",
     "output_type": "stream",
     "text": [
      "FXX\n"
     ]
    }
   ],
   "source": [
    "class car:\n",
    "    def __init__(self, model, year, make):  # Constructor that accepts arguments\n",
    "        self.model = model\n",
    "        self.year = year\n",
    "        self.make = make\n",
    "\n",
    "# Now this will work:\n",
    "cars = car(\"FXX\", 2015, 'Ferrari')\n",
    "print(cars.model)  # Output: FXX"
   ]
  },
  {
   "cell_type": "code",
   "execution_count": 8,
   "id": "8d4f20b5-53ef-4a98-9745-14a0420cddbe",
   "metadata": {},
   "outputs": [
    {
     "name": "stdout",
     "output_type": "stream",
     "text": [
      "FXX\n",
      "True\n"
     ]
    }
   ],
   "source": [
    "class car:\n",
    "    def __init__(self, model, year, make):\n",
    "        self.model = model\n",
    "        self.year = year\n",
    "        self.make = make\n",
    "\n",
    "class sports_car(car):\n",
    "    def __init__(self, model, year, make, doors, racing, turbo):\n",
    "        super().__init__(model, year, make)  # Initialize parent class\n",
    "        self.doors = doors\n",
    "        self.racing = racing\n",
    "        self.turbo = turbo\n",
    "\n",
    "# Now both will work:\n",
    "cars = car(\"FXX\", 2015, 'Ferrari')\n",
    "ferrari = sports_car(\"FXX\", 2015, 'Ferrari', 2, True, True)\n",
    "print(cars.model)      # Output: FXX\n",
    "print(ferrari.turbo)   # Output: True"
   ]
  },
  {
   "cell_type": "code",
   "execution_count": 9,
   "id": "508e87a6-b4cc-4a8e-8261-a2c28ddf9834",
   "metadata": {},
   "outputs": [
    {
     "ename": "NameError",
     "evalue": "name 'Ferrari' is not defined",
     "output_type": "error",
     "traceback": [
      "\u001b[1;31m---------------------------------------------------------------------------\u001b[0m",
      "\u001b[1;31mNameError\u001b[0m                                 Traceback (most recent call last)",
      "Cell \u001b[1;32mIn[9], line 1\u001b[0m\n\u001b[1;32m----> 1\u001b[0m child_class\u001b[38;5;241m=\u001b[39mcar(\u001b[38;5;124m\"\u001b[39m\u001b[38;5;124mFXX\u001b[39m\u001b[38;5;124m\"\u001b[39m,\u001b[38;5;241m2015\u001b[39m,Ferrari,\u001b[38;5;241m2\u001b[39m,\u001b[38;5;28;01mTrue\u001b[39;00m,\u001b[38;5;28;01mTrue\u001b[39;00m)\n\u001b[0;32m      2\u001b[0m ferrari\u001b[38;5;241m.\u001b[39mmodel\n",
      "\u001b[1;31mNameError\u001b[0m: name 'Ferrari' is not defined"
     ]
    }
   ],
   "source": []
  },
  {
   "cell_type": "code",
   "execution_count": 10,
   "id": "da1b6fb5-a4b1-4c8f-850d-84f0e7916704",
   "metadata": {},
   "outputs": [
    {
     "name": "stdout",
     "output_type": "stream",
     "text": [
      "Hello, I'm John\n",
      "Hello, I'm Alice\n"
     ]
    }
   ],
   "source": [
    "class Parent:  \n",
    "    def __init__(self, name):  \n",
    "        self.name = name  \n",
    "\n",
    "    def greet(self):  \n",
    "        return f\"Hello, I'm {self.name}\"  \n",
    "\n",
    "class Child(Parent):  # Inherits from Parent  \n",
    "    pass  \n",
    "\n",
    "# Usage\n",
    "parent = Parent(\"John\")  \n",
    "child = Child(\"Alice\")  \n",
    "\n",
    "print(parent.greet())  # Output: Hello, I'm John  \n",
    "print(child.greet())   # Output: Hello, I'm Alice (inherited method)"
   ]
  },
  {
   "cell_type": "code",
   "execution_count": 11,
   "id": "db6cadee-7e62-4c02-ad81-908e84127167",
   "metadata": {},
   "outputs": [
    {
     "name": "stdout",
     "output_type": "stream",
     "text": [
      "Hello, I'm Alice and I'm 10 years old.\n"
     ]
    }
   ],
   "source": [
    "class Child(Parent):  \n",
    "    def __init__(self, name, age):  \n",
    "        super().__init__(name)  # Calls Parent's __init__  \n",
    "        self.age = age  \n",
    "\n",
    "    def greet(self):  \n",
    "        return f\"{super().greet()} and I'm {self.age} years old.\"  \n",
    "\n",
    "child = Child(\"Alice\", 10)  \n",
    "print(child.greet())  # Output: Hello, I'm Alice and I'm 10 years old."
   ]
  },
  {
   "cell_type": "code",
   "execution_count": 12,
   "id": "8edd2c4d-7bb2-4c56-88b0-482701c5ed47",
   "metadata": {},
   "outputs": [
    {
     "name": "stdout",
     "output_type": "stream",
     "text": [
      "Vroom! I'm a Toyota Corolla!\n"
     ]
    }
   ],
   "source": [
    "class Vehicle:  # Parent  \n",
    "    def __init__(self, brand):  \n",
    "        self.brand = brand  \n",
    "\n",
    "    def drive(self):  \n",
    "        return \"Vroom!\"  \n",
    "\n",
    "class Car(Vehicle):  # Child  \n",
    "    def __init__(self, brand, model):  \n",
    "        super().__init__(brand)  \n",
    "        self.model = model  \n",
    "\n",
    "    def drive(self):  \n",
    "        return f\"{super().drive()} I'm a {self.brand} {self.model}!\"  \n",
    "\n",
    "car = Car(\"Toyota\", \"Corolla\")  \n",
    "print(car.drive())  # Output: Vroom! I'm a Toyota Corolla!"
   ]
  },
  {
   "cell_type": "code",
   "execution_count": 13,
   "id": "01fece39-16e1-4364-98f7-6216c4731284",
   "metadata": {},
   "outputs": [],
   "source": [
    "def add_numbers():\n",
    " first_number = 2\n",
    " second_number = 3\n",
    " total = first_number + second_number\n",
    " print(total)"
   ]
  },
  {
   "cell_type": "code",
   "execution_count": 15,
   "id": "5eb7cf6d-ae96-4a4d-bfac-d866b58524ac",
   "metadata": {},
   "outputs": [
    {
     "ename": "TypeError",
     "evalue": "add_numbers() takes 0 positional arguments but 2 were given",
     "output_type": "error",
     "traceback": [
      "\u001b[1;31m---------------------------------------------------------------------------\u001b[0m",
      "\u001b[1;31mTypeError\u001b[0m                                 Traceback (most recent call last)",
      "Cell \u001b[1;32mIn[15], line 1\u001b[0m\n\u001b[1;32m----> 1\u001b[0m add_numbers(\u001b[38;5;241m6\u001b[39m,\u001b[38;5;241m7\u001b[39m)\n",
      "\u001b[1;31mTypeError\u001b[0m: add_numbers() takes 0 positional arguments but 2 were given"
     ]
    }
   ],
   "source": [
    "add_numbers(6,7)"
   ]
  },
  {
   "cell_type": "code",
   "execution_count": 17,
   "id": "b89d7179-df50-41f5-b120-e0367fae3616",
   "metadata": {},
   "outputs": [],
   "source": [
    " def calc_tax(sales_total, tax_rate):\n",
    "     print(sales_total * tax_rate)"
   ]
  },
  {
   "cell_type": "code",
   "execution_count": 18,
   "id": "1e973455-de21-4294-92ba-fe112ddca6ae",
   "metadata": {},
   "outputs": [
    {
     "name": "stdout",
     "output_type": "stream",
     "text": [
      "361.2\n"
     ]
    }
   ],
   "source": [
    "calc_tax(43,8.4)"
   ]
  },
  {
   "cell_type": "code",
   "execution_count": 29,
   "id": "f2562750-29ad-4b4b-8536-a7a13c384f25",
   "metadata": {},
   "outputs": [
    {
     "name": "stdout",
     "output_type": "stream",
     "text": [
      "Hello there, Al\n"
     ]
    }
   ],
   "source": [
    "give_greeting(\"Hello there\", first_name=\"Al\")\n",
    "def give_greeting(greeting, first_name):\n",
    "    print(greeting + \", \" + first_name)"
   ]
  },
  {
   "cell_type": "code",
   "execution_count": 31,
   "id": "03f87f3c-723c-4ba8-b2eb-bc14646c2efe",
   "metadata": {},
   "outputs": [
    {
     "ename": "TypeError",
     "evalue": "give_greeting() missing 2 required positional arguments: 'greeting' and 'first_name'",
     "output_type": "error",
     "traceback": [
      "\u001b[1;31m---------------------------------------------------------------------------\u001b[0m",
      "\u001b[1;31mTypeError\u001b[0m                                 Traceback (most recent call last)",
      "Cell \u001b[1;32mIn[31], line 1\u001b[0m\n\u001b[1;32m----> 1\u001b[0m give_greeting( )\n",
      "\u001b[1;31mTypeError\u001b[0m: give_greeting() missing 2 required positional arguments: 'greeting' and 'first_name'"
     ]
    }
   ],
   "source": [
    "give_greeting( )"
   ]
  },
  {
   "cell_type": "code",
   "execution_count": 32,
   "id": "27e6f8e5-cab6-4edd-ac48-1b91bb9f57e5",
   "metadata": {},
   "outputs": [],
   "source": [
    " def give_greeting(greeting, first_name,\n",
    "flattering_nickname=\" the wonder boy\"):\n",
    "    print(greeting + \", \" + first_name +\n",
    "flattering_nickname)"
   ]
  },
  {
   "cell_type": "code",
   "execution_count": 36,
   "id": "29af0095-0659-424f-9b2d-c7fb9e535c4a",
   "metadata": {},
   "outputs": [],
   "source": [
    "# give_greeting(greeting,rashid)"
   ]
  },
  {
   "cell_type": "code",
   "execution_count": 38,
   "id": "1d080875-1cf6-4271-b0cf-00866e7e9876",
   "metadata": {},
   "outputs": [],
   "source": [
    "customers = {\n",
    " 0: {\n",
    " \"first name\":\"John\",\n",
    " \"last name\": \"Ogden\",\n",
    " \"address\": \"301 Arbor Rd.\",\n",
    " },\n",
    " 1: {\n",
    " \"first name\":\"Ann\",\n",
    " \"last name\": \"Sattermyer\",\n",
    " \"address\": \"PO Box 1145\",\n",
    " },\n",
    " 2: {\n",
    " \"first name\":\"Jill\",\n",
    " \"last name\": \"Somers\",\n",
    " \"address\": \"3 Main St.\",\n",
    " },\n",
    " }\n"
   ]
  },
  {
   "cell_type": "code",
   "execution_count": 39,
   "id": "208febbb-af04-40be-9627-ba00e0fcd388",
   "metadata": {},
   "outputs": [],
   "source": [
    "def find_something(dict, inner_dict, target):\n",
    "    print(dict[inner_dict][target])"
   ]
  },
  {
   "cell_type": "code",
   "execution_count": 40,
   "id": "a71164d5-919b-4558-8615-a3d0ccb0feda",
   "metadata": {},
   "outputs": [
    {
     "name": "stdout",
     "output_type": "stream",
     "text": [
      "Somers\n"
     ]
    }
   ],
   "source": [
    "find_something(customers, 2, \"last name\")\n",
    "def find_something(dict, inner_dict, target):\n",
    "    print(dict[inner_dict][target])\n"
   ]
  },
  {
   "cell_type": "code",
   "execution_count": 44,
   "id": "d6013641-0681-424d-9591-546c0368bc19",
   "metadata": {},
   "outputs": [
    {
     "name": "stdout",
     "output_type": "stream",
     "text": [
      "John\n"
     ]
    }
   ],
   "source": [
    "find_something(customers,0,\"first name\")"
   ]
  },
  {
   "cell_type": "code",
   "execution_count": 45,
   "id": "7b5cc3b3-73d9-45b9-aecc-1cfd7502f476",
   "metadata": {},
   "outputs": [
    {
     "ename": "SyntaxError",
     "evalue": "expected ':' (1791947909.py, line 2)",
     "output_type": "error",
     "traceback": [
      "\u001b[1;36m  Cell \u001b[1;32mIn[45], line 2\u001b[1;36m\u001b[0m\n\u001b[1;33m    class adder()\u001b[0m\n\u001b[1;37m                 ^\u001b[0m\n\u001b[1;31mSyntaxError\u001b[0m\u001b[1;31m:\u001b[0m expected ':'\n"
     ]
    }
   ],
   "source": [
    "### operator overloading\n",
    "from typing import overload\n",
    "class adder()\n",
    "    @overlaod\n",
    "    def add(self,x:int,y:int) ->int:\n",
    "    @overload\n",
    "    def add(self,x,y,int)"
   ]
  },
  {
   "cell_type": "code",
   "execution_count": 48,
   "id": "83dd5c31-ed29-4602-97c8-2379c5889e82",
   "metadata": {},
   "outputs": [
    {
     "data": {
      "text/plain": [
       "'Bird is eating Chilli'"
      ]
     },
     "execution_count": 48,
     "metadata": {},
     "output_type": "execute_result"
    }
   ],
   "source": [
    "# function overloading\n",
    "class animal():\n",
    "    def eating(self,food):\n",
    "        return f'Animal is eating {food}'\n",
    "\n",
    "class bird(animal):\n",
    "    def eating(self,food):\n",
    "        return f'Bird is eating {food}'\n",
    "\n",
    "totta =bird()\n",
    "totta.eating(\"Chilli\")"
   ]
  },
  {
   "cell_type": "markdown",
   "id": "5ef59f78-1244-45c6-a29d-4b749857fc7c",
   "metadata": {},
   "source": [
    "### Polymorphism\n",
    "the ability of different classes to execute same command or method but in different ways."
   ]
  },
  {
   "cell_type": "code",
   "execution_count": null,
   "id": "452b98bd-fb5c-4357-b353-866f45dfad8c",
   "metadata": {},
   "outputs": [],
   "source": []
  },
  {
   "cell_type": "markdown",
   "id": "c07a28a2-0b85-408d-b90c-f26d62d06536",
   "metadata": {},
   "source": [
    "### Encapsulation \n",
    "Defining the scope of the cariables and limiting them to either a class method,or object"
   ]
  },
  {
   "cell_type": "code",
   "execution_count": 49,
   "id": "e37758a2-a967-4f14-9e2c-a6f2f8711de4",
   "metadata": {},
   "outputs": [],
   "source": [
    "class saylani:\n",
    "    def __init__ (self):\n",
    "        self.roll = \"7980\" # public\n",
    "        self.branch=\"Zaitoon Ashraf\"  # protected\n",
    "        self.__students= 800# private"
   ]
  },
  {
   "cell_type": "code",
   "execution_count": 52,
   "id": "b1edaa1d-bb77-4408-a201-ad5dcfcff993",
   "metadata": {},
   "outputs": [],
   "source": [
    "s=saylani()"
   ]
  },
  {
   "cell_type": "code",
   "execution_count": 53,
   "id": "13533892-9768-41a0-af09-cd1814c06c16",
   "metadata": {},
   "outputs": [
    {
     "data": {
      "text/plain": [
       "'7980'"
      ]
     },
     "execution_count": 53,
     "metadata": {},
     "output_type": "execute_result"
    }
   ],
   "source": [
    "s.roll"
   ]
  },
  {
   "cell_type": "code",
   "execution_count": 56,
   "id": "bb99d14e-2152-4f4b-a8a7-26d90c285c5d",
   "metadata": {},
   "outputs": [
    {
     "data": {
      "text/plain": [
       "'2468'"
      ]
     },
     "execution_count": 56,
     "metadata": {},
     "output_type": "execute_result"
    }
   ],
   "source": [
    "s.roll='2468'\n",
    "s.roll"
   ]
  },
  {
   "cell_type": "code",
   "execution_count": 57,
   "id": "035e2da6-b2a0-44ff-a328-bad8e80d81e8",
   "metadata": {},
   "outputs": [
    {
     "data": {
      "text/plain": [
       "'Zaitoon Ashraf'"
      ]
     },
     "execution_count": 57,
     "metadata": {},
     "output_type": "execute_result"
    }
   ],
   "source": [
    "s._branch='Headoffice'\n",
    "s.branch"
   ]
  },
  {
   "cell_type": "markdown",
   "id": "7b232bc1-7ea6-4cfb-9905-60cd0e18c8c1",
   "metadata": {},
   "source": [
    "## Task\n",
    "- Create an encapsulation class i.e. 'StudentLogin()'\n",
    "- Initialzie 2 'static' but 'private' attributes i.e. '__username ' and 'password'\n",
    "- create one _private method_ i.e. __ dbconnectivity' that will validate your username and password\\\n",
    "- if both are valid print 'Conncetion Built'\n",
    "- if Either one is wrong print 'Fialed to connect'\n",
    "- Create one public method i.e 'update_password'to update your pricate password"
   ]
  },
  {
   "cell_type": "code",
   "execution_count": null,
   "id": "04f98808-699c-42d2-bde4-0af226d37893",
   "metadata": {},
   "outputs": [],
   "source": []
  }
 ],
 "metadata": {
  "kernelspec": {
   "display_name": "Python 3 (ipykernel)",
   "language": "python",
   "name": "python3"
  },
  "language_info": {
   "codemirror_mode": {
    "name": "ipython",
    "version": 3
   },
   "file_extension": ".py",
   "mimetype": "text/x-python",
   "name": "python",
   "nbconvert_exporter": "python",
   "pygments_lexer": "ipython3",
   "version": "3.12.7"
  }
 },
 "nbformat": 4,
 "nbformat_minor": 5
}
