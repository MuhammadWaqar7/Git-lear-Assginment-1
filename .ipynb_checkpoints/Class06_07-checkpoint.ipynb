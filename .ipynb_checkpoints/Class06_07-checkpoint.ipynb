{
 "cells": [
  {
   "cell_type": "code",
   "execution_count": null,
   "id": "c13e2d42-aa95-4312-94be-0b3ea22ee03c",
   "metadata": {},
   "outputs": [],
   "source": [
    "class car()\n",
    "# constructor\n",
    "class sports_car(car):\n",
    "    def _iniit_(self,doors:int,roof:bool,spoiler:bool):\n",
    "        self.doors=doors\n",
    "        self.roof=roof\n",
    "        self.spoiler=spoiler\n",
    "    def info():\n",
    "        return(f'{self.name} is a sports car designed by {self.make} in year {self.year} having {self.doors} doors. ')\n",
    "        "
   ]
  },
  {
   "cell_type": "code",
   "execution_count": 3,
   "id": "c2169177-7b33-4508-a936-0bc7a445c916",
   "metadata": {},
   "outputs": [],
   "source": [
    "# Heirarchial Inheritance\n",
    "# car -> parent\n",
    "# sports car -> child\n",
    "# family car -> child\n",
    "\n",
    "class car():\n",
    "    # Class variables\n",
    "    wheels = 4\n",
    "    steering = 1\n",
    "    headlights = 2\n",
    "    backlights = 2\n",
    "\n",
    "    # Constructor\n",
    "    def _init_(self, name : str, model:int, make:str):\n",
    "        self.name = name\n",
    "        self.model = model\n",
    "        self.year = year\n",
    "        \n",
    "    # Method with no attributes\n",
    "    def drive(self):\n",
    "        return 'Car is moving forward'\n",
    "\n",
    "    #method with attributes\n",
    "    def engine_capacity(self, cc : int):\n",
    "        self.cc = cc\n",
    "\n",
    "    # calculated methods\n",
    "    def mileage(self, km : float, avg : float):\n",
    "        mileage = km * avg\n",
    "        return mileage\n",
    "\n",
    "class sports_car(car):\n",
    "    def _init__(self, doors:int, roof:bool, spoiler:bool):\n",
    "        self.doors = doors\n",
    "        self.roof = roof\n",
    "        self.spoiler = spoiler\n",
    "\n",
    "    def info(self):\n",
    "        return (f'{self.name} is a sports car designed by {self.make} in year {self.year} having {self.doors} doors.')"
   ]
  },
  {
   "cell_type": "code",
   "execution_count": 4,
   "id": "8ba127ca-3536-4af1-8da1-720b7f091a3d",
   "metadata": {},
   "outputs": [
    {
     "ename": "TypeError",
     "evalue": "car() takes no arguments",
     "output_type": "error",
     "traceback": [
      "\u001b[1;31m---------------------------------------------------------------------------\u001b[0m",
      "\u001b[1;31mTypeError\u001b[0m                                 Traceback (most recent call last)",
      "Cell \u001b[1;32mIn[4], line 1\u001b[0m\n\u001b[1;32m----> 1\u001b[0m cars\u001b[38;5;241m=\u001b[39mcar(\u001b[38;5;124m\"\u001b[39m\u001b[38;5;124mFXX\u001b[39m\u001b[38;5;124m\"\u001b[39m,\u001b[38;5;241m2015\u001b[39m,\u001b[38;5;124m'\u001b[39m\u001b[38;5;124mFerrari\u001b[39m\u001b[38;5;124m'\u001b[39m)\n\u001b[0;32m      2\u001b[0m ferrari\u001b[38;5;241m=\u001b[39msports_car(\u001b[38;5;241m2\u001b[39m,\u001b[38;5;28;01mTrue\u001b[39;00m,\u001b[38;5;28;01mTrue\u001b[39;00m)\n\u001b[0;32m      3\u001b[0m cars\u001b[38;5;241m.\u001b[39mmodel\n",
      "\u001b[1;31mTypeError\u001b[0m: car() takes no arguments"
     ]
    }
   ],
   "source": [
    "cars=car(\"FXX\",2015,'Ferrari')\n",
    "ferrari=sports_car(2,True,True)\n",
    "cars.model"
   ]
  },
  {
   "cell_type": "code",
   "execution_count": null,
   "id": "a0bf7ed4-297b-41ad-a0c7-41bd7fc822a3",
   "metadata": {},
   "outputs": [],
   "source": []
  }
 ],
 "metadata": {
  "kernelspec": {
   "display_name": "Python 3 (ipykernel)",
   "language": "python",
   "name": "python3"
  },
  "language_info": {
   "codemirror_mode": {
    "name": "ipython",
    "version": 3
   },
   "file_extension": ".py",
   "mimetype": "text/x-python",
   "name": "python",
   "nbconvert_exporter": "python",
   "pygments_lexer": "ipython3",
   "version": "3.12.7"
  }
 },
 "nbformat": 4,
 "nbformat_minor": 5
}
