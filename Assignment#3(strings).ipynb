{
 "cells": [
  {
   "cell_type": "markdown",
   "metadata": {},
   "source": [
    "1. Write a program that accepts a string from user. Your program should count and display number of \n",
    "vowels in that string. \n",
    " 2. Write a program that reads a string from keyboard and display: \n",
    "* The number of uppercase letters in the string \n",
    "* The number of lowercase letters in the string \n",
    "* The number of digits in the string \n",
    "* The number of whitespace characters in the string "
   ]
  },
  {
   "cell_type": "code",
   "execution_count": null,
   "metadata": {},
   "outputs": [],
   "source": [
    "# Problem 1: Count vowels\n",
    "def count_vowels():\n",
    "    string = input(\"\\nEnter a string to count vowels: \")\n",
    "    vowels = 'aeiouAEIOU'\n",
    "    count = sum(1 for char in string if char in vowels)\n",
    "    print(f\"Number of vowels: {count}\")\n",
    "\n",
    "# Problem 2: String analysis\n",
    "def analyze_string():\n",
    "    string = input(\"\\nEnter a string to analyze: \")\n",
    "    counts = {\n",
    "        'upper': sum(1 for c in string if c.isupper()),\n",
    "        'lower': sum(1 for c in string if c.islower()),\n",
    "        'digit': sum(1 for c in string if c.isdigit()),\n",
    "        'space': sum(1 for c in string if c.isspace())\n",
    "    }\n",
    "    print(f\"Uppercase letters: {counts['upper']}\")\n",
    "    print(f\"Lowercase letters: {counts['lower']}\")\n",
    "    print(f\"Digits: {counts['digit']}\")\n",
    "    print(f\"Whitespaces: {counts['space']}\")\n",
    "\n",
    "# Menu\n",
    "while True:\n",
    "    print(\"\\n1. Count vowels in string\")\n",
    "    print(\"2. Analyze string\")\n",
    "    print(\"3. Exit\")\n",
    "    choice = input(\"Enter your choice (1-3): \")\n",
    "    \n",
    "    if choice == '1':\n",
    "        count_vowels()\n",
    "    elif choice == '2':\n",
    "        analyze_string()\n",
    "    elif choice == '3':\n",
    "        break\n",
    "    else:\n",
    "        print(\"Invalid choice. Please try again.\")"
   ]
  },
  {
   "cell_type": "markdown",
   "metadata": {},
   "source": [
    "3. Write a Python program that accepts a string from user. Your program should create and display a \n",
    "new string where the first and last characters have been exchanged. \n",
    "For example if the user enters the string 'HELLO' then new string would be 'OELLH' \n"
   ]
  },
  {
   "cell_type": "code",
   "execution_count": null,
   "metadata": {},
   "outputs": [],
   "source": [
    "# Get input string from user\n",
    "original_string = input(\"Enter a string: \")\n",
    "\n",
    "# Exchange first and last characters\n",
    "if len(original_string) > 1:\n",
    "    new_string = original_string[-1] + original_string[1:-1] + original_string[0]\n",
    "else:\n",
    "    new_string = original_string  # For single character strings\n",
    "\n",
    "# Display the result\n",
    "print(f\"Original string: {original_string}\")\n",
    "print(f\"Modified string: {new_string}\")"
   ]
  },
  {
   "cell_type": "markdown",
   "metadata": {},
   "source": [
    "3. Write a Python program that accepts a string from user. Your program should create and display a \n",
    "new string where the first and last characters have been exchanged. \n",
    "For example if the user enters the string 'HELLO' then new string would be 'OELLH'"
   ]
  },
  {
   "cell_type": "code",
   "execution_count": null,
   "metadata": {},
   "outputs": [],
   "source": [
    "user_input = input(\"Enter a string: \")\n",
    "if len(user_input) > 1:\n",
    "    modified_string = user_input[-1] + user_input[1:-1] + user_input[0]\n",
    "    else:\n",
    "    modified_string = user_input  # For single character strings\n",
    "    print(f\"Original string: {user_input}\")\n",
    "    print(f\"Modified string: {modified_string}\")"
   ]
  },
  {
   "cell_type": "code",
   "execution_count": null,
   "metadata": {},
   "outputs": [],
   "source": []
  }
 ],
 "metadata": {
  "kernelspec": {
   "display_name": "Python 3",
   "language": "python",
   "name": "python3"
  },
  "language_info": {
   "codemirror_mode": {
    "name": "ipython",
    "version": 3
   },
   "file_extension": ".py",
   "mimetype": "text/x-python",
   "name": "python",
   "nbconvert_exporter": "python",
   "pygments_lexer": "ipython3",
   "version": "3.10.5"
  }
 },
 "nbformat": 4,
 "nbformat_minor": 2
}
