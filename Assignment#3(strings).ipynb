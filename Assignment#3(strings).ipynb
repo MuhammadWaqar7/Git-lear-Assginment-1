{
 "cells": [
  {
   "cell_type": "markdown",
   "metadata": {},
   "source": [
    "1. Write a program that accepts a string from user. Your program should count and display number of \n",
    "vowels in that string. \n",
    " 2. Write a program that reads a string from keyboard and display: \n",
    "* The number of uppercase letters in the string \n",
    "* The number of lowercase letters in the string \n",
    "* The number of digits in the string \n",
    "* The number of whitespace characters in the string "
   ]
  },
  {
   "cell_type": "code",
   "execution_count": null,
   "metadata": {},
   "outputs": [],
   "source": [
    "# Problem 1: Count vowels\n",
    "def count_vowels():\n",
    "    string = input(\"\\nEnter a string to count vowels: \")\n",
    "    vowels = 'aeiouAEIOU'\n",
    "    count = sum(1 for char in string if char in vowels)\n",
    "    print(f\"Number of vowels: {count}\")\n",
    "\n",
    "# Problem 2: String analysis\n",
    "def analyze_string():\n",
    "    string = input(\"\\nEnter a string to analyze: \")\n",
    "    counts = {\n",
    "        'upper': sum(1 for c in string if c.isupper()),\n",
    "        'lower': sum(1 for c in string if c.islower()),\n",
    "        'digit': sum(1 for c in string if c.isdigit()),\n",
    "        'space': sum(1 for c in string if c.isspace())\n",
    "    }\n",
    "    print(f\"Uppercase letters: {counts['upper']}\")\n",
    "    print(f\"Lowercase letters: {counts['lower']}\")\n",
    "    print(f\"Digits: {counts['digit']}\")\n",
    "    print(f\"Whitespaces: {counts['space']}\")\n",
    "\n",
    "# Menu\n",
    "while True:\n",
    "    print(\"\\n1. Count vowels in string\")\n",
    "    print(\"2. Analyze string\")\n",
    "    print(\"3. Exit\")\n",
    "    choice = input(\"Enter your choice (1-3): \")\n",
    "    \n",
    "    if choice == '1':\n",
    "        count_vowels()\n",
    "    elif choice == '2':\n",
    "        analyze_string()\n",
    "    elif choice == '3':\n",
    "        break\n",
    "    else:\n",
    "        print(\"Invalid choice. Please try again.\")"
   ]
  },
  {
   "cell_type": "markdown",
   "metadata": {},
   "source": [
    "3. Write a Python program that accepts a string from user. Your program should create and display a \n",
    "new string where the first and last characters have been exchanged. \n",
    "For example if the user enters the string 'HELLO' then new string would be 'OELLH'"
   ]
  },
  {
   "cell_type": "code",
   "execution_count": null,
   "metadata": {},
   "outputs": [],
   "source": [
    "user_input = input(\"Enter a string: \")\n",
    "if len(user_input) > 1:\n",
    "    modified_string = user_input[-1] + user_input[1:-1] + user_input[0]\n",
    "    else:\n",
    "    modified_string = user_input  # For single character strings\n",
    "    print(f\"Original string: {user_input}\")\n",
    "    print(f\"Modified string: {modified_string}\")"
   ]
  },
  {
   "cell_type": "markdown",
   "metadata": {},
   "source": [
    "4. Write a Python program that accepts a string from user. Your program should create a new string in \n",
    "reverse of first string and display it. \n",
    "For example if the user enters the string 'EXAM' then new string would be 'MAXE'"
   ]
  },
  {
   "cell_type": "code",
   "execution_count": null,
   "metadata": {},
   "outputs": [],
   "source": [
    "user_input = input(\"Enter a string: \")\n",
    "if len(user_input) > 1:\n",
    "    modified_string = user_input[-1] + user_input[1:-1] + user_input[0]\n",
    "else:\n",
    "    modified_string = user_input  # For single character strings\n",
    "print(f\"Original string: {user_input}\")\n",
    "print(f\"Modified string: {modified_string}\")\n"
   ]
  },
  {
   "cell_type": "markdown",
   "metadata": {},
   "source": [
    "5. Write a Python program that accepts a string from user. Your program should create a new string by \n",
    "shifting one position to left. \n",
    "For example if the user enters the string 'examination 2021' then new string would be 'xamination \n",
    "2021e' "
   ]
  },
  {
   "cell_type": "code",
   "execution_count": null,
   "metadata": {},
   "outputs": [],
   "source": [
    "# Get input string from user\n",
    "s = input(\"Enter a string: \")\n",
    "\n",
    "# Shift left by moving first character to end\n",
    "if len(s) > 1:\n",
    "    result = s[1:] + s[0]\n",
    "else:\n",
    "    result = s  # No change if string has 0 or 1 character\n",
    "\n",
    "# Display the result\n",
    "print(\"Shifted string:\", result)\n",
    "\n"
   ]
  },
  {
   "cell_type": "markdown",
   "metadata": {},
   "source": [
    " 6. Write a program that asks the user to input his name and print its initials. Assuming that the user \n",
    "always types first name, middle name and last name and does not include any unnecessary spaces. \n",
    "For example, if the user enters Ajay Kumar Garg the program should display A. K. G. \n",
    "Note:Don't use split() method "
   ]
  },
  {
   "cell_type": "code",
   "execution_count": null,
   "metadata": {},
   "outputs": [],
   "source": [
    "# Get the full name\n",
    "name = input(\"Enter first, middle, and last name: \")\n",
    "\n",
    "# Get the first letter of each name\n",
    "initial1 = name[0]\n",
    "initial2 = name[name.find(' ')+1]\n",
    "initial3 = name[name.rfind(' ')+1]\n",
    "\n",
    "# Print the initials\n",
    "print(f\"{initial1.upper()}. {initial2.upper()}. {initial3.upper()}.\")"
   ]
  },
  {
   "cell_type": "markdown",
   "metadata": {},
   "source": [
    "7. A palindrome is a string that reads the same backward as forward. For example, the words dad, \n",
    "madam and radar are all palindromes. Write a programs that determines whether the string is a \n",
    "palindrome. \n",
    "Note: do not use reverse() method"
   ]
  },
  {
   "cell_type": "code",
   "execution_count": null,
   "metadata": {},
   "outputs": [],
   "source": [
    "word = input(\"Enter a word: \").lower()\n",
    "\n",
    "# Compare the word with its reverse\n",
    "if word == word[::-1]:\n",
    "    print(\"It's a palindrome!\")\n",
    "else:\n",
    "    print(\"Not a palindrome.\")"
   ]
  },
  {
   "cell_type": "markdown",
   "metadata": {},
   "source": [
    "8. Write a program that display following output: \n",
    "SHIFT \n",
    "HIFTS \n",
    "IFTSH \n",
    "FTSHI \n",
    "TSHIF \n",
    "SHIFT \n"
   ]
  },
  {
   "cell_type": "code",
   "execution_count": null,
   "metadata": {},
   "outputs": [],
   "source": [
    "word = \"SHIFT\"\n",
    "\n",
    "for i in range(len(word)):\n",
    "    print(word[i:] + word[:i])"
   ]
  },
  {
   "cell_type": "markdown",
   "metadata": {},
   "source": [
    "9. Write a program in python that accepts a string to setup a passwords. Your entered password must \n",
    "meet the following requirements: \n",
    "The password must be at least eight characters long. \n",
    "It must contain at least one uppercase letter. \n",
    "It must contain at least one lowercase letter. \n",
    "It must contain at least one numeric digit. \n",
    "Your program should should perform this validation."
   ]
  },
  {
   "cell_type": "code",
   "execution_count": null,
   "metadata": {},
   "outputs": [],
   "source": [
    "def validate_password(password):\n",
    "    # Check password length\n",
    "    if len(password) < 8:\n",
    "        return False, \"Password must be at least 8 characters long\"\n",
    "    \n",
    "    has_upper = False\n",
    "    has_lower = False\n",
    "    has_digit = False\n",
    "    \n",
    "    # Check each character in the password\n",
    "    for char in password:\n",
    "        if char.isupper():\n",
    "            has_upper = True\n",
    "        elif char.islower():\n",
    "            has_lower = True\n",
    "        elif char.isdigit():\n",
    "            has_digit = True\n",
    "    \n",
    "    # Check all requirements\n",
    "    if not has_upper:\n",
    "        return False, \"Password must contain at least one uppercase letter\"\n",
    "    if not has_lower:\n",
    "        return False, \"Password must contain at least one lowercase letter\"\n",
    "    if not has_digit:\n",
    "        return False, \"Password must contain at least one digit\"\n",
    "    \n",
    "    return True, \"Password is valid\"\n",
    "\n",
    "# Main program\n",
    "while True:\n",
    "    password = input(\"Enter your password: \")\n",
    "    is_valid, message = validate_password(password)\n",
    "    \n",
    "    if is_valid:\n",
    "        print(\"Password accepted!\")\n",
    "        break\n",
    "    else:\n",
    "        print(f\"Invalid password: {message}\\nPlease try again.\\n\")"
   ]
  }
 ],
 "metadata": {
  "kernelspec": {
   "display_name": "anaconda4",
   "language": "python",
   "name": "python3"
  },
  "language_info": {
   "codemirror_mode": {
    "name": "ipython",
    "version": 3
   },
   "file_extension": ".py",
   "mimetype": "text/x-python",
   "name": "python",
   "nbconvert_exporter": "python",
   "pygments_lexer": "ipython3",
   "version": "-1.-1.-1"
  }
 },
 "nbformat": 4,
 "nbformat_minor": 2
}
