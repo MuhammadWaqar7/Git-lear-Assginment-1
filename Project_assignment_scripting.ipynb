{
 "cells": [
  {
   "cell_type": "code",
   "execution_count": 1,
   "id": "574f816e-4e6e-49d7-96a8-8fac9cffc061",
   "metadata": {},
   "outputs": [],
   "source": [
    "customer_29876 = {\n",
    "\"first name\": \"David\",\n",
    " \"last name\": \"Elliott\",\n",
    " \"address\": \"4803 Wellesley St.\",\n",
    " }\n"
   ]
  },
  {
   "cell_type": "code",
   "execution_count": 4,
   "id": "4434ccf2-4da5-4d0e-a09e-ce399b1298a3",
   "metadata": {
    "scrolled": true
   },
   "outputs": [
    {
     "name": "stdout",
     "output_type": "stream",
     "text": [
      "the key first name and value David\n",
      "the key last name and value Elliott\n",
      "the key address and value 4803 Wellesley St.\n"
     ]
    }
   ],
   "source": [
    "for each_key,each_value in customer_29876.items():\n",
    "    print(\"the key \" + each_key+\" and value \" + each_value)"
   ]
  },
  {
   "cell_type": "code",
   "execution_count": 3,
   "id": "6cc690e3-523c-4a89-8145-c771ec61e443",
   "metadata": {},
   "outputs": [],
   "source": [
    "import requests \n",
    "from bs4 import BeautifulSoup\n",
    "import json\n",
    "import re"
   ]
  },
  {
   "cell_type": "code",
   "execution_count": 11,
   "id": "cc7d57ad-fa60-4831-abaa-815953af7415",
   "metadata": {},
   "outputs": [],
   "source": [
    "url='https://www.thriftbooks.com/browse/?12529col#b.s=mostPopular-desc&b.p=1&b.pp=50&b.col&b.f.t%5B%5D=12529&b.list'"
   ]
  },
  {
   "cell_type": "code",
   "execution_count": 12,
   "id": "06210c72-3118-4b55-9eaf-c6ea6fb6f5df",
   "metadata": {},
   "outputs": [],
   "source": [
    "content=requests.get(url).content\n",
    "soup=BeautifulSoup(content,'html.parser')\n"
   ]
  },
  {
   "cell_type": "code",
   "execution_count": 13,
   "id": "031eb038-343d-4aa5-8c96-a89edd2b6598",
   "metadata": {},
   "outputs": [],
   "source": [
    "data = soup.find_all('script')\n",
    "string = data[12].string\n",
    "\n",
    "data = {}\n",
    "\n",
    "match = re.search(r'window\\.searchStoreV2\\s*=\\s*(\\{.*?\\});', string, re.DOTALL)\n",
    "if match:\n",
    "    works = match.group(1)\n",
    "    works_json = json.loads(works)\n",
    "\n",
    "    works = works_json.get('works')\n",
    "\n",
    "with open(r'thrift_books_data.csv', 'a') as f:\n",
    "    f.write(f'title,condition,buy_price\\n')\n",
    "\n",
    "for i in works:\n",
    "    data.update(i)\n",
    "    title = data['title']\n",
    "    condition = data['buyNowCondition']   \n",
    "    buy_price = data['buyNowPrice']\n",
    "\n",
    "    with open(r'thrift_books_data.csv', 'a') as f:\n",
    "        f.write(f'{title},{condition},{buy_price}\\n')"
   ]
  },
  {
   "cell_type": "code",
   "execution_count": null,
   "id": "6c8a71b4-aff0-40ff-b62a-bb3001fb4805",
   "metadata": {},
   "outputs": [],
   "source": []
  }
 ],
 "metadata": {
  "kernelspec": {
   "display_name": "Python 3 (ipykernel)",
   "language": "python",
   "name": "python3"
  },
  "language_info": {
   "codemirror_mode": {
    "name": "ipython",
    "version": 3
   },
   "file_extension": ".py",
   "mimetype": "text/x-python",
   "name": "python",
   "nbconvert_exporter": "python",
   "pygments_lexer": "ipython3",
   "version": "3.12.7"
  }
 },
 "nbformat": 4,
 "nbformat_minor": 5
}
