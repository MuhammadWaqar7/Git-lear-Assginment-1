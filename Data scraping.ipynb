{
 "cells": [
  {
   "cell_type": "markdown",
   "id": "8dd74739-7bf5-4b8c-ac92-5d162c575d04",
   "metadata": {},
   "source": [
    "### Data is new Oil\n",
    "- 281 TB of data is used in training OpenAI GPT-5\n",
    "- flex jobs"
   ]
  },
  {
   "cell_type": "code",
   "execution_count": null,
   "id": "a7ee9f6d-1ac9-48a1-a3f3-527fb040e137",
   "metadata": {},
   "outputs": [],
   "source": [
    "!pip install bs4"
   ]
  },
  {
   "cell_type": "code",
   "execution_count": null,
   "id": "ea483d74-e6df-40c9-aa32-509833e49136",
   "metadata": {},
   "outputs": [],
   "source": [
    "import requests # for http methods link,get,post\n",
    "from bs4 import BeautifulSoup # for webscapting methods"
   ]
  },
  {
   "cell_type": "code",
   "execution_count": null,
   "id": "af196fb4-5e8b-4b4a-bdb7-1128310a6060",
   "metadata": {},
   "outputs": [],
   "source": [
    "web"
   ]
  },
  {
   "cell_type": "code",
   "execution_count": null,
   "id": "72176e61-e851-4ef5-8df6-d56e78020a08",
   "metadata": {},
   "outputs": [],
   "source": [
    "url =\"https://m.timesjobs.com/mobile/jobs-search-result.html?txtKeywords=cloud+data+engineers&cboWorkExp1=-1&txtLocation=\""
   ]
  },
  {
   "cell_type": "code",
   "execution_count": null,
   "id": "1c576b16-574b-452b-8a69-0c93b75eb226",
   "metadata": {},
   "outputs": [],
   "source": [
    "web=requests.get(url).content"
   ]
  },
  {
   "cell_type": "code",
   "execution_count": null,
   "id": "4f40d00e-2b76-4901-b11e-96fa02668fdb",
   "metadata": {},
   "outputs": [],
   "source": [
    "soup=BeautifulSoup(web,\"lxml\")"
   ]
  },
  {
   "cell_type": "code",
   "execution_count": null,
   "id": "4145fc9b-7a64-44d9-9157-1db9794e2ba4",
   "metadata": {},
   "outputs": [],
   "source": [
    "soup"
   ]
  },
  {
   "cell_type": "code",
   "execution_count": null,
   "id": "aa9e5618-4910-450b-93c5-fee39224260c",
   "metadata": {},
   "outputs": [],
   "source": [
    "import requests # for http methods link,get,post\n",
    "from bs4 import BeautifulSoup # for webscapting methods"
   ]
  },
  {
   "cell_type": "code",
   "execution_count": null,
   "id": "954109c0-6857-4d81-8949-c9505ed58aad",
   "metadata": {
    "jupyter": {
     "source_hidden": true
    }
   },
   "outputs": [],
   "source": [
    "url=\"https://www.rozee.pk/job/jsearch/q/Data%20Entry%20Operator/fc/1184/fs/40000:*/stype/title\""
   ]
  },
  {
   "cell_type": "code",
   "execution_count": null,
   "id": "181c76bd-aedd-4671-a45e-9f40ec96991d",
   "metadata": {},
   "outputs": [],
   "source": [
    "web=requests.get(url).content"
   ]
  },
  {
   "cell_type": "code",
   "execution_count": null,
   "id": "e93a0fa2-69de-4967-b2ef-1e5f332f5a97",
   "metadata": {},
   "outputs": [],
   "source": [
    "web"
   ]
  },
  {
   "cell_type": "code",
   "execution_count": null,
   "id": "9e5c89b3-f682-400c-9e15-d78268f4a2c6",
   "metadata": {},
   "outputs": [],
   "source": [
    "soup=BeautifulSoup(web,\"lxml\")"
   ]
  },
  {
   "cell_type": "code",
   "execution_count": null,
   "id": "ed9aa41d-2187-453c-9468-c1602daf9661",
   "metadata": {},
   "outputs": [],
   "source": [
    "soup"
   ]
  },
  {
   "cell_type": "code",
   "execution_count": null,
   "id": "d3d86d52-f93a-4e7f-b81a-1a1e975c29ae",
   "metadata": {},
   "outputs": [],
   "source": [
    "titles=soup.find_all('div',class_=\"srp-job-heading\")"
   ]
  },
  {
   "cell_type": "code",
   "execution_count": null,
   "id": "e3549543-5c61-47de-bdab-d2b4f4e8b67a",
   "metadata": {},
   "outputs": [],
   "source": [
    "titles.text"
   ]
  },
  {
   "cell_type": "code",
   "execution_count": null,
   "id": "49532aa4-83b0-4847-b076-0592700ab116",
   "metadata": {},
   "outputs": [],
   "source": [
    "for title in titles:\n",
    "    title=title.find('h3').text\n",
    "    company=job.find(span'h4',class='srp-comp-name')"
   ]
  },
  {
   "cell_type": "code",
   "execution_count": 28,
   "id": "4f175aeb-e16e-4a06-89d4-0bf5e1e40521",
   "metadata": {},
   "outputs": [
    {
     "ename": "NameError",
     "evalue": "name 'jobs' is not defined",
     "output_type": "error",
     "traceback": [
      "\u001b[1;31m---------------------------------------------------------------------------\u001b[0m",
      "\u001b[1;31mNameError\u001b[0m                                 Traceback (most recent call last)",
      "Cell \u001b[1;32mIn[28], line 1\u001b[0m\n\u001b[1;32m----> 1\u001b[0m \u001b[38;5;28;01mfor\u001b[39;00m job \u001b[38;5;129;01min\u001b[39;00m jobs:\n\u001b[0;32m      2\u001b[0m     title\u001b[38;5;241m=\u001b[39mjob\u001b[38;5;241m.\u001b[39mfind(\u001b[38;5;124m'\u001b[39m\u001b[38;5;124mh3\u001b[39m\u001b[38;5;124m'\u001b[39m)\u001b[38;5;241m.\u001b[39mtext\n\u001b[0;32m      3\u001b[0m     company\u001b[38;5;241m=\u001b[39mjob\u001b[38;5;241m.\u001b[39mfind(\u001b[38;5;124m'\u001b[39m\u001b[38;5;124mspan\u001b[39m\u001b[38;5;124m'\u001b[39m,class_\u001b[38;5;241m=\u001b[39m\u001b[38;5;124m'\u001b[39m\u001b[38;5;124msrp-comp-name\u001b[39m\u001b[38;5;124m'\u001b[39m)\u001b[38;5;241m.\u001b[39mtext\n",
      "\u001b[1;31mNameError\u001b[0m: name 'jobs' is not defined"
     ]
    }
   ],
   "source": [
    "for job in jobs:\n",
    "    title=job.find('h3').text\n",
    "    company=job.find('span',class_='srp-comp-name').text\n",
    "    posting_time=job.find('span',class_='posting-time')\n",
    "    jobs.append({\n",
    "        'job_title':title,\n",
    "        'company':company,\n",
    "        'posting_time':posting_time\n",
    "    })\n",
    "    "
   ]
  },
  {
   "cell_type": "code",
   "execution_count": null,
   "id": "da1ec910-7440-4de5-a378-c576a4605ab0",
   "metadata": {},
   "outputs": [],
   "source": [
    "import pandas as pd\n",
    "pd.DataFrame(job)"
   ]
  }
 ],
 "metadata": {
  "kernelspec": {
   "display_name": "Python 3 (ipykernel)",
   "language": "python",
   "name": "python3"
  },
  "language_info": {
   "codemirror_mode": {
    "name": "ipython",
    "version": 3
   },
   "file_extension": ".py",
   "mimetype": "text/x-python",
   "name": "python",
   "nbconvert_exporter": "python",
   "pygments_lexer": "ipython3",
   "version": "3.12.7"
  }
 },
 "nbformat": 4,
 "nbformat_minor": 5
}
