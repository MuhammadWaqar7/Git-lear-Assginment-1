{
 "cells": [
  {
   "cell_type": "code",
   "execution_count": 4,
   "id": "f6f352d6-f527-486b-9fc3-ccd945a50658",
   "metadata": {},
   "outputs": [
    {
     "name": "stdin",
     "output_type": "stream",
     "text": [
      "Enter a city or \"q\" to exit the program:  islamabad\n"
     ]
    },
    {
     "name": "stdout",
     "output_type": "stream",
     "text": [
      "islamabad \n",
      "\n"
     ]
    },
    {
     "name": "stdin",
     "output_type": "stream",
     "text": [
      "Enter a city or \"q\" to exit the program:  karachi\n"
     ]
    },
    {
     "name": "stdout",
     "output_type": "stream",
     "text": [
      "karachi \n",
      "\n"
     ]
    },
    {
     "name": "stdin",
     "output_type": "stream",
     "text": [
      "Enter a city or \"q\" to exit the program:  lahore\n"
     ]
    },
    {
     "name": "stdout",
     "output_type": "stream",
     "text": [
      "lahore \n",
      "\n"
     ]
    },
    {
     "name": "stdin",
     "output_type": "stream",
     "text": [
      "Enter a city or \"q\" to exit the program:  queata\n"
     ]
    },
    {
     "name": "stdout",
     "output_type": "stream",
     "text": [
      "queata \n",
      "\n"
     ]
    },
    {
     "name": "stdin",
     "output_type": "stream",
     "text": [
      "Enter a city or \"q\" to exit the program:  peshawer\n"
     ]
    },
    {
     "name": "stdout",
     "output_type": "stream",
     "text": [
      "peshawer \n",
      "\n"
     ]
    },
    {
     "name": "stdin",
     "output_type": "stream",
     "text": [
      "Enter a city or \"q\" to exit the program:  1\n"
     ]
    },
    {
     "name": "stdout",
     "output_type": "stream",
     "text": [
      "1 \n",
      "\n"
     ]
    },
    {
     "name": "stdin",
     "output_type": "stream",
     "text": [
      "Enter a city or \"q\" to exit the program:  \n"
     ]
    },
    {
     "name": "stdout",
     "output_type": "stream",
     "text": [
      " \n",
      "\n"
     ]
    },
    {
     "name": "stdin",
     "output_type": "stream",
     "text": [
      "Enter a city or \"q\" to exit the program:  q\n"
     ]
    },
    {
     "name": "stdout",
     "output_type": "stream",
     "text": [
      "q \n",
      "\n",
      "Program fininshed\n",
      "['islamabad', 'karachi', 'lahore', 'queata', 'peshawer', '1', '', 'q']\n"
     ]
    }
   ],
   "source": [
    "user_input=\"\"\n",
    "cities=[]\n",
    "while user_input !='q':\n",
    "    \n",
    "    user_input=input('Enter a city or \"q\" to exit the program: ')\n",
    "    cities.append(user_input)\n",
    "    print(user_input,'\\n')\n",
    "print('Program fininshed')\n",
    "print(cities)"
   ]
  },
  {
   "cell_type": "code",
   "execution_count": null,
   "id": "5275b80e-72f6-409e-8832-57dbfc07599e",
   "metadata": {},
   "outputs": [],
   "source": [
    "user_input=\"\"\n",
    "cities=[]\n",
    "while user_input !='q' and user_input !='0': # while True it will run \n",
    "    \n",
    "    if (user_input !='q') and (user_input !='0'):\n",
    "        cities.append(user_input)\n",
    "        print(user_input,'\\n')\n",
    "print('Program fininshed as User Entered')\n",
    "print(cities)\n",
    "\n",
    "break()"
   ]
  },
  {
   "cell_type": "markdown",
   "id": "46ea39be-e025-4334-bd80-2f9c1ec111a8",
   "metadata": {},
   "source": [
    "### Classes\n",
    "- Calasses is a group of functions that can be share with other  classes as well and have enhance variable security."
   ]
  },
  {
   "cell_type": "code",
   "execution_count": null,
   "id": "d31bc0df-564d-4b8a-8570-e2fb7fe4a013",
   "metadata": {},
   "outputs": [],
   "source": [
    "class Sylanit():\n",
    " def _init_(self,students):\n",
    "        self.students=students\n",
    "obj=saylani(80)\n",
    "print(obj.students)\n"
   ]
  },
  {
   "cell_type": "code",
   "execution_count": null,
   "id": "b0683924-28bb-4d9a-b589-508b446efa82",
   "metadata": {},
   "outputs": [],
   "source": [
    "class Patient():\n",
    "    def __init__(self, last_name):\n"
   ]
  },
  {
   "cell_type": "code",
   "execution_count": null,
   "id": "35fcfce8-896e-4ad0-abbc-ed737340b0f1",
   "metadata": {},
   "outputs": [],
   "source": [
    "class Smit():\n",
    "    def _init_(self , name, course,students,months):\n",
    "        self.name=name\n",
    "        self.course=course\n",
    "        self.students=students\n",
    "        self.months=months\n",
    "    def sent(name, course):\n",
    "        print(f'{name} is teaching {course} at Saylanit')"
   ]
  },
  {
   "cell_type": "code",
   "execution_count": null,
   "id": "b7a61eba-f9e5-41ff-a2de-4a37470d214a",
   "metadata": {},
   "outputs": [],
   "source": [
    "obj=Smit('Uzair','CDE',150,8)\n",
    "print(smit.sent('Uzair','CDE'))"
   ]
  },
  {
   "cell_type": "code",
   "execution_count": null,
   "id": "a1307c30-6c1b-449b-af0a-62111d3b1cc1",
   "metadata": {},
   "outputs": [],
   "source": [
    "from sklearn.datasets import load_iris\n",
    "data = load_iris()"
   ]
  },
  {
   "cell_type": "code",
   "execution_count": null,
   "id": "4757277d-b39b-4381-8c98-b4ff1b98bc85",
   "metadata": {},
   "outputs": [],
   "source": [
    "# reading the file line wise\n",
    "f= open(\"Assignment 03 (strings) (1)\",\"r\")\n",
    "print(f)\n"
   ]
  },
  {
   "cell_type": "code",
   "execution_count": null,
   "id": "6f58478d-dbb2-4d6e-b17a-db3cf402578a",
   "metadata": {},
   "outputs": [],
   "source": [
    "with open(\"Assignment 03 (strings) (1)\",'r') as f:\n",
    "    print(len(f.read())"
   ]
  },
  {
   "cell_type": "markdown",
   "id": "50c9952c-7d62-4181-9fd3-cddc1bdf0a41",
   "metadata": {},
   "source": [
    "### Exception Handling\n",
    "- Generating custom error messages and options incase of an error"
   ]
  },
  {
   "cell_type": "code",
   "execution_count": 4,
   "id": "2c82f5ac-5fb8-4fa2-a092-c2fa72a7f66b",
   "metadata": {},
   "outputs": [
    {
     "name": "stdout",
     "output_type": "stream",
     "text": [
      "you are divideng number by zero which is not possible.\n",
      "Kindly re run the code!!!\n"
     ]
    }
   ],
   "source": [
    "try:\n",
    "    print(85/0)\n",
    "except ZeroDivisionError:\n",
    "    print(\"you are divideng number by zero which is not possible.\\nKindly re run the code!!!\")\n",
    "except: # will excute for all errors\n",
    "    print(\"You are dividing number by zero whihc is not possible.\\nKindly re runt the code!!!\")\n",
    "else: # will execute if there is no error\n",
    "    print(\"Error\")\n",
    "finally: # will allways"
   ]
  },
  {
   "cell_type": "code",
   "execution_count": 5,
   "id": "bb441407-13f8-46df-9f70-b0a8875f1951",
   "metadata": {},
   "outputs": [
    {
     "ename": "ZeroDivisionError",
     "evalue": "division by zero",
     "output_type": "error",
     "traceback": [
      "\u001b[1;31m---------------------------------------------------------------------------\u001b[0m",
      "\u001b[1;31mZeroDivisionError\u001b[0m                         Traceback (most recent call last)",
      "Cell \u001b[1;32mIn[5], line 1\u001b[0m\n\u001b[1;32m----> 1\u001b[0m \u001b[38;5;241m85\u001b[39m\u001b[38;5;241m/\u001b[39m\u001b[38;5;241m0\u001b[39m\n",
      "\u001b[1;31mZeroDivisionError\u001b[0m: division by zero"
     ]
    }
   ],
   "source": [
    "85/0"
   ]
  },
  {
   "cell_type": "code",
   "execution_count": 6,
   "id": "e2cf4126-41e7-4a3e-bf9c-feb176ae2d55",
   "metadata": {},
   "outputs": [
    {
     "ename": "NameError",
     "evalue": "name 'ZeroDiivisionError' is not defined",
     "output_type": "error",
     "traceback": [
      "\u001b[1;31m---------------------------------------------------------------------------\u001b[0m",
      "\u001b[1;31mKeyError\u001b[0m                                  Traceback (most recent call last)",
      "Cell \u001b[1;32mIn[6], line 3\u001b[0m\n\u001b[0;32m      2\u001b[0m \u001b[38;5;28;01mtry\u001b[39;00m:\n\u001b[1;32m----> 3\u001b[0m     \u001b[38;5;28mprint\u001b[39m(\u001b[38;5;28mdict\u001b[39m[\u001b[38;5;124m'\u001b[39m\u001b[38;5;124mname\u001b[39m\u001b[38;5;124m'\u001b[39m])\n\u001b[0;32m      4\u001b[0m \u001b[38;5;28;01mexcept\u001b[39;00m ZeroDiivisionError:\n",
      "\u001b[1;31mKeyError\u001b[0m: 'name'",
      "\nDuring handling of the above exception, another exception occurred:\n",
      "\u001b[1;31mNameError\u001b[0m                                 Traceback (most recent call last)",
      "Cell \u001b[1;32mIn[6], line 4\u001b[0m\n\u001b[0;32m      2\u001b[0m \u001b[38;5;28;01mtry\u001b[39;00m:\n\u001b[0;32m      3\u001b[0m     \u001b[38;5;28mprint\u001b[39m(\u001b[38;5;28mdict\u001b[39m[\u001b[38;5;124m'\u001b[39m\u001b[38;5;124mname\u001b[39m\u001b[38;5;124m'\u001b[39m])\n\u001b[1;32m----> 4\u001b[0m \u001b[38;5;28;01mexcept\u001b[39;00m ZeroDiivisionError:\n\u001b[0;32m      5\u001b[0m     pr\n",
      "\u001b[1;31mNameError\u001b[0m: name 'ZeroDiivisionError' is not defined"
     ]
    }
   ],
   "source": [
    "dict = {}\n",
    "try:\n",
    "    print(dict['name'])\n",
    "except ZeroDiivisionError:\n",
    "    pr"
   ]
  },
  {
   "cell_type": "code",
   "execution_count": 7,
   "id": "3f702100-d54b-4f48-940e-e017fcaa5beb",
   "metadata": {},
   "outputs": [
    {
     "name": "stdout",
     "output_type": "stream",
     "text": [
      "Hello\n",
      "Nothing went wrong\n"
     ]
    }
   ],
   "source": [
    "try:\n",
    "    print(\"Hello\")\n",
    "except:\n",
    "    print(\"Something went wrong\")\n",
    "else:\n",
    "    print(\"Nothing went wrong\")"
   ]
  },
  {
   "cell_type": "code",
   "execution_count": 10,
   "id": "8eacd4ba-e1f2-47f9-868d-272d1ecf097c",
   "metadata": {},
   "outputs": [
    {
     "ename": "NameError",
     "evalue": "name 'MyError' is not defined",
     "output_type": "error",
     "traceback": [
      "\u001b[1;31m---------------------------------------------------------------------------\u001b[0m",
      "\u001b[1;31mNameError\u001b[0m                                 Traceback (most recent call last)",
      "Cell \u001b[1;32mIn[10], line 3\u001b[0m\n\u001b[0;32m      1\u001b[0m i\u001b[38;5;241m=\u001b[39m\u001b[38;5;241m-\u001b[39m\u001b[38;5;241m2\u001b[39m\n\u001b[0;32m      2\u001b[0m \u001b[38;5;28;01mif\u001b[39;00m i\u001b[38;5;241m<\u001b[39m\u001b[38;5;241m0\u001b[39m:\n\u001b[1;32m----> 3\u001b[0m     \u001b[38;5;28;01mraise\u001b[39;00m MyError(\u001b[38;5;124m\"\u001b[39m\u001b[38;5;124mKindlyenter value greater than zero\u001b[39m\u001b[38;5;124m\"\u001b[39m)\n",
      "\u001b[1;31mNameError\u001b[0m: name 'MyError' is not defined"
     ]
    }
   ],
   "source": [
    "i=-2\n",
    "if i<0:\n",
    "    raise MyError(\"Kindlyenter value greater than zero\")"
   ]
  },
  {
   "cell_type": "code",
   "execution_count": null,
   "id": "3696f32d-317d-4610-8c15-b39d1517cc67",
   "metadata": {},
   "outputs": [],
   "source": []
  }
 ],
 "metadata": {
  "kernelspec": {
   "display_name": "Python 3 (ipykernel)",
   "language": "python",
   "name": "python3"
  },
  "language_info": {
   "codemirror_mode": {
    "name": "ipython",
    "version": 3
   },
   "file_extension": ".py",
   "mimetype": "text/x-python",
   "name": "python",
   "nbconvert_exporter": "python",
   "pygments_lexer": "ipython3",
   "version": "3.12.7"
  }
 },
 "nbformat": 4,
 "nbformat_minor": 5
}
