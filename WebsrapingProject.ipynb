{
 "cells": [
  {
   "cell_type": "markdown",
   "id": "5700ff97-e70b-432b-8f37-531f7f27cef7",
   "metadata": {},
   "source": [
    "### Web scraping pakistan banks jobs"
   ]
  },
  {
   "cell_type": "code",
   "execution_count": 3,
   "id": "2d06f681-0e7a-4f33-85e3-976b13fe8c3d",
   "metadata": {},
   "outputs": [],
   "source": [
    "import requests # for http methods link,get,post\n",
    "from bs4 import BeautifulSoup # for webscapting methods"
   ]
  },
  {
   "cell_type": "code",
   "execution_count": 4,
   "id": "a1b64a63-4c93-4884-8a71-29f32c365cb4",
   "metadata": {},
   "outputs": [],
   "source": [
    "url=\"https://www.pakistanjobsbank.com/Org/SPSC/\""
   ]
  },
  {
   "cell_type": "code",
   "execution_count": 5,
   "id": "28dcac81-1a1f-4eb3-b18c-28aa277eb58e",
   "metadata": {},
   "outputs": [],
   "source": [
    "web=requests.get(url).content"
   ]
  },
  {
   "cell_type": "code",
   "execution_count": null,
   "id": "1ea2ae7e-178b-4df3-a6bd-4562de9e4bc1",
   "metadata": {},
   "outputs": [],
   "source": [
    "web"
   ]
  },
  {
   "cell_type": "code",
   "execution_count": 7,
   "id": "c46caf28-d573-4cbc-9cff-80455ffddd63",
   "metadata": {},
   "outputs": [],
   "source": [
    "soup=BeautifulSoup(web,\"lxml\")"
   ]
  },
  {
   "cell_type": "code",
   "execution_count": null,
   "id": "1b05a585-0d1a-4c04-9b4a-2231ac4821b8",
   "metadata": {},
   "outputs": [],
   "source": [
    "soup"
   ]
  },
  {
   "cell_type": "markdown",
   "id": "ac1f931a-4538-4e74-bad9-c124341dc548",
   "metadata": {},
   "source": [
    "### Webscrabing Rozee.pk"
   ]
  },
  {
   "cell_type": "code",
   "execution_count": 9,
   "id": "01ff1339-848a-453e-bec6-9298fe062fe3",
   "metadata": {},
   "outputs": [],
   "source": [
    "import requests # for http methods link,get,post\n",
    "from bs4 import BeautifulSoup # for webscapting methods"
   ]
  },
  {
   "cell_type": "code",
   "execution_count": 10,
   "id": "8a33cb82-d1b6-442c-8fbc-80563d66ef39",
   "metadata": {},
   "outputs": [],
   "source": [
    "url=\"https://www.pakwheels.com/used-cars/karachi/24857\""
   ]
  },
  {
   "cell_type": "code",
   "execution_count": 11,
   "id": "724d6bec-ee16-4d0e-b401-7d4998d8a3a9",
   "metadata": {},
   "outputs": [],
   "source": [
    "web=requests.get(url).content"
   ]
  },
  {
   "cell_type": "code",
   "execution_count": 1,
   "id": "5cb93060-2588-4615-b2b7-40c6d3497f35",
   "metadata": {
    "scrolled": true
   },
   "outputs": [
    {
     "ename": "NameError",
     "evalue": "name 'soup' is not defined",
     "output_type": "error",
     "traceback": [
      "\u001b[1;31m---------------------------------------------------------------------------\u001b[0m",
      "\u001b[1;31mNameError\u001b[0m                                 Traceback (most recent call last)",
      "Cell \u001b[1;32mIn[1], line 1\u001b[0m\n\u001b[1;32m----> 1\u001b[0m soup\u001b[38;5;241m.\u001b[39mBeautifulSoup(web,\u001b[38;5;124m'\u001b[39m\u001b[38;5;124mhtml.parser\u001b[39m\u001b[38;5;124m'\u001b[39m)\n",
      "\u001b[1;31mNameError\u001b[0m: name 'soup' is not defined"
     ]
    }
   ],
   "source": [
    "soup.BeautifulSoup(web,'html.parser')"
   ]
  },
  {
   "cell_type": "code",
   "execution_count": null,
   "id": "f83c6a73-919c-47ef-9895-433ba84103ff",
   "metadata": {},
   "outputs": [],
   "source": [
    "soup"
   ]
  },
  {
   "cell_type": "code",
   "execution_count": 18,
   "id": "59570d05-4de8-4b1e-afe3-c637fc544c7c",
   "metadata": {},
   "outputs": [],
   "source": [
    "title=soup.find_all('div',class_=\"srp-job-heading\")"
   ]
  },
  {
   "cell_type": "code",
   "execution_count": 20,
   "id": "8573844f-298a-4899-9390-700a72196d5c",
   "metadata": {},
   "outputs": [
    {
     "ename": "NameError",
     "evalue": "name 'titles' is not defined",
     "output_type": "error",
     "traceback": [
      "\u001b[1;31m---------------------------------------------------------------------------\u001b[0m",
      "\u001b[1;31mNameError\u001b[0m                                 Traceback (most recent call last)",
      "Cell \u001b[1;32mIn[20], line 1\u001b[0m\n\u001b[1;32m----> 1\u001b[0m \u001b[38;5;28;01mfor\u001b[39;00m title \u001b[38;5;129;01min\u001b[39;00m titles:\n\u001b[0;32m      2\u001b[0m     \u001b[38;5;28mprint\u001b[39m(title\u001b[38;5;241m.\u001b[39mtext)\n",
      "\u001b[1;31mNameError\u001b[0m: name 'titles' is not defined"
     ]
    }
   ],
   "source": [
    "for title in titles:\n",
    "    print(title.text)"
   ]
  },
  {
   "cell_type": "code",
   "execution_count": 19,
   "id": "60f81e34-b538-400e-9601-95d0d3440d6f",
   "metadata": {},
   "outputs": [
    {
     "ename": "NameError",
     "evalue": "name 'titles' is not defined",
     "output_type": "error",
     "traceback": [
      "\u001b[1;31m---------------------------------------------------------------------------\u001b[0m",
      "\u001b[1;31mNameError\u001b[0m                                 Traceback (most recent call last)",
      "Cell \u001b[1;32mIn[19], line 1\u001b[0m\n\u001b[1;32m----> 1\u001b[0m titles\u001b[38;5;241m.\u001b[39mtext\n",
      "\u001b[1;31mNameError\u001b[0m: name 'titles' is not defined"
     ]
    }
   ],
   "source": [
    "titles.text"
   ]
  },
  {
   "cell_type": "code",
   "execution_count": null,
   "id": "e209c5da-93fc-4c59-8ec0-20b35dc408c1",
   "metadata": {},
   "outputs": [],
   "source": []
  }
 ],
 "metadata": {
  "kernelspec": {
   "display_name": "Python 3 (ipykernel)",
   "language": "python",
   "name": "python3"
  },
  "language_info": {
   "codemirror_mode": {
    "name": "ipython",
    "version": 3
   },
   "file_extension": ".py",
   "mimetype": "text/x-python",
   "name": "python",
   "nbconvert_exporter": "python",
   "pygments_lexer": "ipython3",
   "version": "3.12.7"
  }
 },
 "nbformat": 4,
 "nbformat_minor": 5
}
