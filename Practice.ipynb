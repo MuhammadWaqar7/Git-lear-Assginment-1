{
 "cells": [
  {
   "cell_type": "code",
   "execution_count": 1,
   "id": "574f816e-4e6e-49d7-96a8-8fac9cffc061",
   "metadata": {},
   "outputs": [],
   "source": [
    "customer_29876 = {\n",
    "\"first name\": \"David\",\n",
    " \"last name\": \"Elliott\",\n",
    " \"address\": \"4803 Wellesley St.\",\n",
    " }\n"
   ]
  },
  {
   "cell_type": "code",
   "execution_count": 4,
   "id": "4434ccf2-4da5-4d0e-a09e-ce399b1298a3",
   "metadata": {},
   "outputs": [
    {
     "name": "stdout",
     "output_type": "stream",
     "text": [
      "the key first name and value David\n",
      "the key last name and value Elliott\n",
      "the key address and value 4803 Wellesley St.\n"
     ]
    }
   ],
   "source": [
    "for each_key,each_value in customer_29876.items():\n",
    "    print(\"the key \" + each_key+\" and value \" + each_value)"
   ]
  },
  {
   "cell_type": "code",
   "execution_count": null,
   "id": "6cc690e3-523c-4a89-8145-c771ec61e443",
   "metadata": {},
   "outputs": [],
   "source": []
  }
 ],
 "metadata": {
  "kernelspec": {
   "display_name": "Python 3 (ipykernel)",
   "language": "python",
   "name": "python3"
  },
  "language_info": {
   "codemirror_mode": {
    "name": "ipython",
    "version": 3
   },
   "file_extension": ".py",
   "mimetype": "text/x-python",
   "name": "python",
   "nbconvert_exporter": "python",
   "pygments_lexer": "ipython3",
   "version": "3.12.7"
  }
 },
 "nbformat": 4,
 "nbformat_minor": 5
}
