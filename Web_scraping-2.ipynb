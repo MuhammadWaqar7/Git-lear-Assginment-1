{
 "cells": [
  {
   "cell_type": "code",
   "execution_count": null,
   "id": "9e6b9a54-7e13-4919-a43c-b3d9a45f5921",
   "metadata": {},
   "outputs": [],
   "source": [
    "import requests # to use http protocols\n",
    "from bs4 import BeautifulSoup\n",
    "import json\n",
    "import re"
   ]
  },
  {
   "cell_type": "code",
   "execution_count": null,
   "id": "0dc761c6-8b34-478a-92ca-323de3b9c973",
   "metadata": {},
   "outputs": [],
   "source": [
    "# step#1\n",
    "# identifying the url or website\n",
    "url=\"https://www.thriftbooks.com/browse/?13526col#b.s=mostPopular-desc&b.p=1&b.pp=50&b.col&b.f.t%5B%5D=13526&b.list\"\n"
   ]
  },
  {
   "cell_type": "code",
   "execution_count": null,
   "id": "064c9e85-31b5-4e9f-8427-fd460e0dceee",
   "metadata": {},
   "outputs": [],
   "source": [
    "# step#2a\n",
    "# parsing the content of the url\n",
    "content=requests.get(url).content\n",
    "soup=BeautifulSoup(content,'html.parser')\n"
   ]
  },
  {
   "cell_type": "code",
   "execution_count": null,
   "id": "2aa2a318-6ae1-4877-808f-3eac12d86b99",
   "metadata": {},
   "outputs": [],
   "source": [
    "import re\n",
    "import json\n",
    "from bs4 import BeautifulSoup\n",
    "\n",
    "# Assuming 'soup' is already defined from BeautifulSoup\n",
    "data = soup.find_all('script')\n",
    "string = data[12].string  # Get the 12th script tag's content\n",
    "\n",
    "# Corrected regex pattern to extract JSON data\n",
    "match = re.search(r'window\\.searchStore\\s*=\\s*(\\{.*?\\});', string, re.DOTALL)\n",
    "\n",
    "if match:\n",
    "    try:\n",
    "        # Load the matched JSON string\n",
    "        works_json = json.loads(match.group(1))\n",
    "        \n",
    "        # Safely get 'works' list with default empty list\n",
    "        works = works_json.get('works', [])\n",
    "        \n",
    "        # Print length of works (corrected from 'Len' to 'len')\n",
    "        print(f\"Number of works found: {len(works)}\")\n",
    "        \n",
    "    except json.JSONDecodeError as e:\n",
    "        print(f\"Failed to parse JSON: {e}\")\n",
    "else:\n",
    "    print(\"No matching JSON data found in script tag.\")"
   ]
  },
  {
   "cell_type": "code",
   "execution_count": null,
   "id": "381a62a2-e9f8-4c4e-999e-e4ae70b06f54",
   "metadata": {},
   "outputs": [],
   "source": [
    "data = soup.find_all('script')\n",
    "string = data[12].string\n",
    "\n",
    "match = re.search(r'window\\.searchStore\\s*=\\s*(\\{.*?\\});', string, re.DOTALL)\n",
    "if match:\n",
    "    works = match.group(1)\n",
    "    works_json = json.loads(works)\n",
    "    works = works_json.get('works')\n",
    "# dictionary_data=dict(works[0:])\n",
    "for i in works:\n",
    "    data.update(i)\n",
    "    titles=data['title']\n",
    "    condition=data['buyNowCondtion']\n",
    "    buy_price =data['buyNowPrice']\n",
    "    author = data.authors\n",
    "    # data_lst= [title, condtion, buy_price]\n",
    "    with open('thrif_books_data.csv','a' ) as f:\n",
    "        f.write(f'{title},{condition},{buy_price}')"
   ]
  },
  {
   "cell_type": "code",
   "execution_count": null,
   "id": "72013ef8-e98e-46c1-8e66-63ddab3754a1",
   "metadata": {},
   "outputs": [],
   "source": [
    "data = soup.find_all('script')\n",
    "string = data[12].string\n",
    "\n",
    "match = re.search(r'window\\.searchStore\\s*=\\s*(\\{.*?\\});', string, re.DOTALL)\n",
    "if match:\n",
    "    works = match.group(1)\n",
    "    works_json = json.loads(works)\n",
    "    works = works_json.get('works')\n",
    "# dictionary_data=dict(works[0:])\n",
    "for i in works:\n",
    "    data.update(i)\n",
    "    titles=data['title']\n",
    "    condition=data['buyNowCondtion']\n",
    "    buy_price =data['buyNowPrice']\n",
    "    author = data.authors\n",
    "    # data_lst= [title, condtion, buy_price]\n",
    "    with open('thrif_books_data.csv','a' ) as f:\n",
    "        f.write(f'{title},{condition},{buy_price}')"
   ]
  },
  {
   "cell_type": "code",
   "execution_count": null,
   "id": "1009cb2a-4fd4-43ce-9b8a-fed3a72c3f0e",
   "metadata": {},
   "outputs": [],
   "source": [
    "data"
   ]
  },
  {
   "cell_type": "code",
   "execution_count": null,
   "id": "bb3cc0b1-a2da-4009-98f8-82e2f9e99c71",
   "metadata": {},
   "outputs": [],
   "source": [
    "data=soup.find_all('script')\n",
    "string=data[12].string\n",
    "match=re.search(r'window.searchStoreV2\\*s=\\s*(\\{.*?\\});', string ,re.DOTALL)\n",
    "if match:\n",
    "    works_json=json.loads(match.group(1))\n",
    "    works=match.group(1)\n",
    "    # works_json=json.loads(works)\n",
    "    # works=works_json.get('works',[])\n",
    "# len (works)\n",
    "dictionary_data=dict(works[0:])"
   ]
  },
  {
   "cell_type": "code",
   "execution_count": null,
   "id": "58646d76-f4a1-4f4e-bdd1-eede500be7cd",
   "metadata": {},
   "outputs": [],
   "source": [
    "content=requests.get(url).content\n",
    "soup=BeautifulSoup(content,'html.parser').html\n"
   ]
  },
  {
   "cell_type": "code",
   "execution_count": null,
   "id": "8499731d-c101-47fc-a6e8-75c093467730",
   "metadata": {},
   "outputs": [],
   "source": [
    "data=soup.find_all('script')\n",
    "string=data[12].string\n",
    "match=re.search(r'window.searchStoreV2\\*s=\\s*(\\{.*?\\});', string ,re.DOTALL)\n",
    "if match:\n",
    "    works=match.group(1)\n",
    "    works_json=json.loads(works)\n",
    "    works=works_json.get('works',[])\n",
    "# len(works)\n",
    "dictionary_data=dict(works[0:])\n",
    "works.get_text()\n",
    "for i in works:\n",
    "    data.update(i)\n",
    "    title=data.title\n",
    "    condition=data['buyNowCondition']\n",
    "    buy_price=data['buyNowPrice']\n",
    "    with open('thrift_books_data.csv') as f:\n",
    "        f.write(title,',',condtions,',',buy_price)"
   ]
  },
  {
   "cell_type": "code",
   "execution_count": null,
   "id": "9349f758-612e-4abe-b84c-ee6093235ab2",
   "metadata": {},
   "outputs": [],
   "source": [
    "data"
   ]
  },
  {
   "cell_type": "code",
   "execution_count": null,
   "id": "c2d2c073-79a9-4a51-a05a-81eed9befc97",
   "metadata": {},
   "outputs": [],
   "source": [
    "# step # 2b \n",
    "# Transforming and Filtering the data\n",
    "con=soup.find_all('div')\n",
    "json.find_all('script')"
   ]
  },
  {
   "cell_type": "code",
   "execution_count": 21,
   "id": "03d8caa9-6714-4706-a1cb-bfad3d3ef5eb",
   "metadata": {},
   "outputs": [],
   "source": [
    "import json\n",
    "import re\n",
    "from bs4 import BeautifulSoup\n",
    "\n",
    "# Assuming soup is already defined\n",
    "data = soup.find_all('script')\n",
    "string = data[12].string\n",
    "\n",
    "match = re.search(r'window\\.searchStore\\s*=\\s*(\\{.*?\\});', string, re.DOTALL)\n",
    "if match:\n",
    "    works = match.group(1)\n",
    "    works_json = json.loads(works)\n",
    "    works = works_json.get('works', [])  # Added default empty list\n",
    "    \n",
    "    with open(r'thrif_books_data.csv', 'a') as f:\n",
    "        f.write(f'title,condtion,buy_price\\n')\n",
    "        for item in works:  # Changed variable name to avoid confusion\n",
    "            # Extract data from each work\n",
    "            title = item.get('title', 'N/A')\n",
    "            condition = item.get('buyNowCondition', 'N/A')  # Fixed typo in key name\n",
    "            buy_price = item.get('buyNowPrice', 'N/A')\n",
    "            author = item.get('authors', ['N/A'])[0]  # Get first author if exists\n",
    "            \n",
    "            # Write to file\n",
    "            f.write(f'{title},{condition},{buy_price},{author}\\n')  # Added author"
   ]
  },
  {
   "cell_type": "code",
   "execution_count": null,
   "id": "29eaa682-8d44-4f86-8ac2-2ce65d993a4b",
   "metadata": {},
   "outputs": [],
   "source": [
    "data"
   ]
  },
  {
   "cell_type": "code",
   "execution_count": null,
   "id": "398b8e7b-843f-43da-bb8a-d1a5f4232837",
   "metadata": {},
   "outputs": [],
   "source": []
  }
 ],
 "metadata": {
  "kernelspec": {
   "display_name": "Python 3 (ipykernel)",
   "language": "python",
   "name": "python3"
  },
  "language_info": {
   "codemirror_mode": {
    "name": "ipython",
    "version": 3
   },
   "file_extension": ".py",
   "mimetype": "text/x-python",
   "name": "python",
   "nbconvert_exporter": "python",
   "pygments_lexer": "ipython3",
   "version": "3.12.7"
  }
 },
 "nbformat": 4,
 "nbformat_minor": 5
}
